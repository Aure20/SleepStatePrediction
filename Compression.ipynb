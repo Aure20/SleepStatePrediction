{
 "cells": [
  {
   "cell_type": "markdown",
   "metadata": {},
   "source": [
    "Import libraries"
   ]
  },
  {
   "cell_type": "code",
   "execution_count": 1,
   "metadata": {},
   "outputs": [],
   "source": [
    "import pandas as pd\n",
    "import json\n",
    "from tqdm.notebook import tqdm\n",
    "from pandarallel import pandarallel\n",
    "import numpy as np\n",
    "import matplotlib.pyplot as plt\n",
    "import seaborn as sns"
   ]
  },
  {
   "cell_type": "markdown",
   "metadata": {},
   "source": [
    "<font size =\"10\"> Data Compression (Input Data) </font>"
   ]
  },
  {
   "cell_type": "code",
   "execution_count": 2,
   "metadata": {},
   "outputs": [
    {
     "data": {
      "text/html": [
       "<div>\n",
       "<style scoped>\n",
       "    .dataframe tbody tr th:only-of-type {\n",
       "        vertical-align: middle;\n",
       "    }\n",
       "\n",
       "    .dataframe tbody tr th {\n",
       "        vertical-align: top;\n",
       "    }\n",
       "\n",
       "    .dataframe thead th {\n",
       "        text-align: right;\n",
       "    }\n",
       "</style>\n",
       "<table border=\"1\" class=\"dataframe\">\n",
       "  <thead>\n",
       "    <tr style=\"text-align: right;\">\n",
       "      <th></th>\n",
       "      <th>series_id</th>\n",
       "      <th>step</th>\n",
       "      <th>timestamp</th>\n",
       "      <th>anglez</th>\n",
       "      <th>enmo</th>\n",
       "    </tr>\n",
       "  </thead>\n",
       "  <tbody>\n",
       "    <tr>\n",
       "      <th>0</th>\n",
       "      <td>038441c925bb</td>\n",
       "      <td>0</td>\n",
       "      <td>2018-08-14T15:30:00-0400</td>\n",
       "      <td>2.6367</td>\n",
       "      <td>0.0217</td>\n",
       "    </tr>\n",
       "    <tr>\n",
       "      <th>1</th>\n",
       "      <td>038441c925bb</td>\n",
       "      <td>1</td>\n",
       "      <td>2018-08-14T15:30:05-0400</td>\n",
       "      <td>2.6368</td>\n",
       "      <td>0.0215</td>\n",
       "    </tr>\n",
       "    <tr>\n",
       "      <th>2</th>\n",
       "      <td>038441c925bb</td>\n",
       "      <td>2</td>\n",
       "      <td>2018-08-14T15:30:10-0400</td>\n",
       "      <td>2.6370</td>\n",
       "      <td>0.0216</td>\n",
       "    </tr>\n",
       "    <tr>\n",
       "      <th>3</th>\n",
       "      <td>038441c925bb</td>\n",
       "      <td>3</td>\n",
       "      <td>2018-08-14T15:30:15-0400</td>\n",
       "      <td>2.6368</td>\n",
       "      <td>0.0213</td>\n",
       "    </tr>\n",
       "    <tr>\n",
       "      <th>4</th>\n",
       "      <td>038441c925bb</td>\n",
       "      <td>4</td>\n",
       "      <td>2018-08-14T15:30:20-0400</td>\n",
       "      <td>2.6368</td>\n",
       "      <td>0.0215</td>\n",
       "    </tr>\n",
       "    <tr>\n",
       "      <th>5</th>\n",
       "      <td>038441c925bb</td>\n",
       "      <td>5</td>\n",
       "      <td>2018-08-14T15:30:25-0400</td>\n",
       "      <td>2.6367</td>\n",
       "      <td>0.0217</td>\n",
       "    </tr>\n",
       "    <tr>\n",
       "      <th>6</th>\n",
       "      <td>038441c925bb</td>\n",
       "      <td>6</td>\n",
       "      <td>2018-08-14T15:30:30-0400</td>\n",
       "      <td>2.6367</td>\n",
       "      <td>0.0217</td>\n",
       "    </tr>\n",
       "    <tr>\n",
       "      <th>7</th>\n",
       "      <td>038441c925bb</td>\n",
       "      <td>7</td>\n",
       "      <td>2018-08-14T15:30:35-0400</td>\n",
       "      <td>2.6367</td>\n",
       "      <td>0.0218</td>\n",
       "    </tr>\n",
       "    <tr>\n",
       "      <th>8</th>\n",
       "      <td>038441c925bb</td>\n",
       "      <td>8</td>\n",
       "      <td>2018-08-14T15:30:40-0400</td>\n",
       "      <td>2.7980</td>\n",
       "      <td>0.0223</td>\n",
       "    </tr>\n",
       "    <tr>\n",
       "      <th>9</th>\n",
       "      <td>038441c925bb</td>\n",
       "      <td>9</td>\n",
       "      <td>2018-08-14T15:30:45-0400</td>\n",
       "      <td>3.0847</td>\n",
       "      <td>0.0217</td>\n",
       "    </tr>\n",
       "  </tbody>\n",
       "</table>\n",
       "</div>"
      ],
      "text/plain": [
       "      series_id  step                 timestamp  anglez    enmo\n",
       "0  038441c925bb     0  2018-08-14T15:30:00-0400  2.6367  0.0217\n",
       "1  038441c925bb     1  2018-08-14T15:30:05-0400  2.6368  0.0215\n",
       "2  038441c925bb     2  2018-08-14T15:30:10-0400  2.6370  0.0216\n",
       "3  038441c925bb     3  2018-08-14T15:30:15-0400  2.6368  0.0213\n",
       "4  038441c925bb     4  2018-08-14T15:30:20-0400  2.6368  0.0215\n",
       "5  038441c925bb     5  2018-08-14T15:30:25-0400  2.6367  0.0217\n",
       "6  038441c925bb     6  2018-08-14T15:30:30-0400  2.6367  0.0217\n",
       "7  038441c925bb     7  2018-08-14T15:30:35-0400  2.6367  0.0218\n",
       "8  038441c925bb     8  2018-08-14T15:30:40-0400  2.7980  0.0223\n",
       "9  038441c925bb     9  2018-08-14T15:30:45-0400  3.0847  0.0217"
      ]
     },
     "execution_count": 2,
     "metadata": {},
     "output_type": "execute_result"
    }
   ],
   "source": [
    "data = pd.read_parquet(\"train_series.parquet\")\n",
    "data.head(10)"
   ]
  },
  {
   "cell_type": "code",
   "execution_count": 3,
   "metadata": {},
   "outputs": [
    {
     "name": "stdout",
     "output_type": "stream",
     "text": [
      "<class 'pandas.core.frame.DataFrame'>\n",
      "RangeIndex: 127946340 entries, 0 to 127946339\n",
      "Data columns (total 5 columns):\n",
      " #   Column     Dtype  \n",
      "---  ------     -----  \n",
      " 0   series_id  object \n",
      " 1   step       uint32 \n",
      " 2   timestamp  object \n",
      " 3   anglez     float32\n",
      " 4   enmo       float32\n",
      "dtypes: float32(2), object(2), uint32(1)\n",
      "memory usage: 3.3+ GB\n"
     ]
    }
   ],
   "source": [
    "data.info(verbose=True)"
   ]
  },
  {
   "cell_type": "markdown",
   "metadata": {},
   "source": [
    "Map series_id to the number of unique values and save mapping to json\n",
    "\n"
   ]
  },
  {
   "cell_type": "code",
   "execution_count": 4,
   "metadata": {},
   "outputs": [],
   "source": [
    "unique_values = data[\"series_id\"].unique()\n",
    "value_to_label_mapping = {value:index for index, value in enumerate(unique_values)}\n",
    "data[\"series_id\"] = data[\"series_id\"].map(value_to_label_mapping)\n",
    "\n",
    "# Dump the dictionary to the JSON file\n",
    "with open(\"LabelMap.json\", \"w\") as json_file:\n",
    "    json.dump(value_to_label_mapping, json_file)"
   ]
  },
  {
   "cell_type": "markdown",
   "metadata": {},
   "source": [
    "Convert timestamp to Datetime format"
   ]
  },
  {
   "cell_type": "code",
   "execution_count": 3,
   "metadata": {},
   "outputs": [],
   "source": [
    "def convert_to_datetime(value):\n",
    "    return pd.to_datetime(value, format='%Y-%m-%dT%H:%M:%S%z')\n",
    "\n",
    "def to_localize(t):\n",
    "    return t.tz_localize(None)"
   ]
  },
  {
   "cell_type": "code",
   "execution_count": null,
   "metadata": {},
   "outputs": [],
   "source": [
    "pandarallel.initialize(progress_bar=True)\n",
    "data['timestamp'] = data['timestamp'].parallel_apply(convert_to_datetime).parallel_apply(to_localize)"
   ]
  },
  {
   "cell_type": "code",
   "execution_count": 6,
   "metadata": {},
   "outputs": [
    {
     "name": "stdout",
     "output_type": "stream",
     "text": [
      "2017-08-04 17:30:00\n",
      "2019-07-09 09:44:55\n"
     ]
    }
   ],
   "source": [
    "print(data['timestamp'].min())\n",
    "print(data['timestamp'].max())"
   ]
  },
  {
   "cell_type": "code",
   "execution_count": 15,
   "metadata": {},
   "outputs": [],
   "source": [
    "data[\"series_id\"] = data[\"series_id\"].astype(np.uint16)"
   ]
  },
  {
   "cell_type": "code",
   "execution_count": 16,
   "metadata": {},
   "outputs": [
    {
     "name": "stdout",
     "output_type": "stream",
     "text": [
      "<class 'pandas.core.frame.DataFrame'>\n",
      "RangeIndex: 127946340 entries, 0 to 127946339\n",
      "Data columns (total 5 columns):\n",
      " #   Column     Dtype         \n",
      "---  ------     -----         \n",
      " 0   series_id  uint16        \n",
      " 1   step       uint32        \n",
      " 2   timestamp  datetime64[ns]\n",
      " 3   anglez     float32       \n",
      " 4   enmo       float32       \n",
      "dtypes: datetime64[ns](1), float32(2), uint16(1), uint32(1)\n",
      "memory usage: 2.6 GB\n"
     ]
    }
   ],
   "source": [
    "data.info(verbose = True)"
   ]
  },
  {
   "cell_type": "code",
   "execution_count": 17,
   "metadata": {},
   "outputs": [
    {
     "data": {
      "text/html": [
       "<div>\n",
       "<style scoped>\n",
       "    .dataframe tbody tr th:only-of-type {\n",
       "        vertical-align: middle;\n",
       "    }\n",
       "\n",
       "    .dataframe tbody tr th {\n",
       "        vertical-align: top;\n",
       "    }\n",
       "\n",
       "    .dataframe thead th {\n",
       "        text-align: right;\n",
       "    }\n",
       "</style>\n",
       "<table border=\"1\" class=\"dataframe\">\n",
       "  <thead>\n",
       "    <tr style=\"text-align: right;\">\n",
       "      <th></th>\n",
       "      <th>series_id</th>\n",
       "      <th>step</th>\n",
       "      <th>timestamp</th>\n",
       "      <th>anglez</th>\n",
       "      <th>enmo</th>\n",
       "    </tr>\n",
       "  </thead>\n",
       "  <tbody>\n",
       "    <tr>\n",
       "      <th>0</th>\n",
       "      <td>0</td>\n",
       "      <td>0</td>\n",
       "      <td>2018-08-14 15:30:00</td>\n",
       "      <td>2.6367</td>\n",
       "      <td>0.0217</td>\n",
       "    </tr>\n",
       "    <tr>\n",
       "      <th>1</th>\n",
       "      <td>0</td>\n",
       "      <td>1</td>\n",
       "      <td>2018-08-14 15:30:05</td>\n",
       "      <td>2.6368</td>\n",
       "      <td>0.0215</td>\n",
       "    </tr>\n",
       "    <tr>\n",
       "      <th>2</th>\n",
       "      <td>0</td>\n",
       "      <td>2</td>\n",
       "      <td>2018-08-14 15:30:10</td>\n",
       "      <td>2.6370</td>\n",
       "      <td>0.0216</td>\n",
       "    </tr>\n",
       "    <tr>\n",
       "      <th>3</th>\n",
       "      <td>0</td>\n",
       "      <td>3</td>\n",
       "      <td>2018-08-14 15:30:15</td>\n",
       "      <td>2.6368</td>\n",
       "      <td>0.0213</td>\n",
       "    </tr>\n",
       "    <tr>\n",
       "      <th>4</th>\n",
       "      <td>0</td>\n",
       "      <td>4</td>\n",
       "      <td>2018-08-14 15:30:20</td>\n",
       "      <td>2.6368</td>\n",
       "      <td>0.0215</td>\n",
       "    </tr>\n",
       "    <tr>\n",
       "      <th>5</th>\n",
       "      <td>0</td>\n",
       "      <td>5</td>\n",
       "      <td>2018-08-14 15:30:25</td>\n",
       "      <td>2.6367</td>\n",
       "      <td>0.0217</td>\n",
       "    </tr>\n",
       "    <tr>\n",
       "      <th>6</th>\n",
       "      <td>0</td>\n",
       "      <td>6</td>\n",
       "      <td>2018-08-14 15:30:30</td>\n",
       "      <td>2.6367</td>\n",
       "      <td>0.0217</td>\n",
       "    </tr>\n",
       "    <tr>\n",
       "      <th>7</th>\n",
       "      <td>0</td>\n",
       "      <td>7</td>\n",
       "      <td>2018-08-14 15:30:35</td>\n",
       "      <td>2.6367</td>\n",
       "      <td>0.0218</td>\n",
       "    </tr>\n",
       "    <tr>\n",
       "      <th>8</th>\n",
       "      <td>0</td>\n",
       "      <td>8</td>\n",
       "      <td>2018-08-14 15:30:40</td>\n",
       "      <td>2.7980</td>\n",
       "      <td>0.0223</td>\n",
       "    </tr>\n",
       "    <tr>\n",
       "      <th>9</th>\n",
       "      <td>0</td>\n",
       "      <td>9</td>\n",
       "      <td>2018-08-14 15:30:45</td>\n",
       "      <td>3.0847</td>\n",
       "      <td>0.0217</td>\n",
       "    </tr>\n",
       "  </tbody>\n",
       "</table>\n",
       "</div>"
      ],
      "text/plain": [
       "   series_id  step           timestamp  anglez    enmo\n",
       "0          0     0 2018-08-14 15:30:00  2.6367  0.0217\n",
       "1          0     1 2018-08-14 15:30:05  2.6368  0.0215\n",
       "2          0     2 2018-08-14 15:30:10  2.6370  0.0216\n",
       "3          0     3 2018-08-14 15:30:15  2.6368  0.0213\n",
       "4          0     4 2018-08-14 15:30:20  2.6368  0.0215\n",
       "5          0     5 2018-08-14 15:30:25  2.6367  0.0217\n",
       "6          0     6 2018-08-14 15:30:30  2.6367  0.0217\n",
       "7          0     7 2018-08-14 15:30:35  2.6367  0.0218\n",
       "8          0     8 2018-08-14 15:30:40  2.7980  0.0223\n",
       "9          0     9 2018-08-14 15:30:45  3.0847  0.0217"
      ]
     },
     "execution_count": 17,
     "metadata": {},
     "output_type": "execute_result"
    }
   ],
   "source": [
    "data.head(10)"
   ]
  },
  {
   "cell_type": "code",
   "execution_count": 18,
   "metadata": {},
   "outputs": [],
   "source": [
    "data.to_parquet(\"train_prep.parquet\", index = False)"
   ]
  },
  {
   "cell_type": "markdown",
   "metadata": {},
   "source": [
    "Test Preprocessing"
   ]
  },
  {
   "cell_type": "code",
   "execution_count": 25,
   "metadata": {},
   "outputs": [],
   "source": [
    "test = pd.read_parquet(\"test_series.parquet\")\n",
    "with open(\"LabelMap.json\", 'r') as json_file:\n",
    "    data_dict = json.load(json_file)\n",
    "test[\"series_id\"] = test[\"series_id\"].map(data_dict)\n",
    "test[\"series_id\"] = test[\"series_id\"].astype(np.uint16)\n",
    "test[\"timestamp\"] = test[\"timestamp\"].apply(convert_to_datetime).apply(to_localize)\n",
    "test.to_parquet(\"test_prep.parquet\", index = False)"
   ]
  },
  {
   "cell_type": "markdown",
   "metadata": {},
   "source": [
    "Events Preprocessing"
   ]
  },
  {
   "cell_type": "code",
   "execution_count": 4,
   "metadata": {},
   "outputs": [],
   "source": [
    "events = pd.read_csv(\"train_events.csv\")\n",
    "with open(\"LabelMap.json\", 'r') as json_file:\n",
    "    data_dict = json.load(json_file)\n",
    "events = events.dropna()\n",
    "events[\"series_id\"] = events[\"series_id\"].map(data_dict).astype(np.uint16)\n",
    "events[\"timestamp\"] = events[\"timestamp\"].apply(convert_to_datetime).apply(to_localize)\n",
    "events[\"night\"] = events[\"night\"].astype(np.uint16)\n",
    "events[\"step\"] = events[\"step\"].astype(np.uint32)\n",
    "events[\"event\"] = events[\"event\"].map({\"onset\":1,\"wakeup\":2}).astype(np.uint8)\n",
    "events.to_csv(\"events_compressed.csv\", index = False)"
   ]
  },
  {
   "cell_type": "markdown",
   "metadata": {},
   "source": [
    "<font size =\"10\"> Data Compression (Modified Data) </font>"
   ]
  },
  {
   "cell_type": "code",
   "execution_count": null,
   "metadata": {},
   "outputs": [],
   "source": [
    "# Group events by 'series_id'\n",
    "import pandas as pd\n",
    "import numpy as np\n",
    "from tqdm import tqdm\n",
    "\n",
    "events = pd.read_csv(\"events_modified.csv\")\n",
    "grouped = events.groupby('series_id')\n",
    "train = pd.read_parquet(\"train_compressed.parquet\")"
   ]
  }
 ],
 "metadata": {
  "kernelspec": {
   "display_name": "Python 3 (ipykernel)",
   "language": "python",
   "name": "python3"
  },
  "language_info": {
   "codemirror_mode": {
    "name": "ipython",
    "version": 3
   },
   "file_extension": ".py",
   "mimetype": "text/x-python",
   "name": "python",
   "nbconvert_exporter": "python",
   "pygments_lexer": "ipython3",
   "version": "3.11.2"
  }
 },
 "nbformat": 4,
 "nbformat_minor": 4
}
