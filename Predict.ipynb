{
 "cells": [
  {
   "cell_type": "code",
   "execution_count": 1,
   "id": "39ad6465-315d-4baa-a25a-28efa1ee59fb",
   "metadata": {},
   "outputs": [],
   "source": [
    "import polars as pl\n",
    "import lightgbm as lgb\n",
    "import numpy as np"
   ]
  },
  {
   "cell_type": "code",
   "execution_count": 2,
   "id": "7f7ccd75-2402-486a-baf0-6b2917e3e221",
   "metadata": {},
   "outputs": [],
   "source": [
    "bst = lgb.Booster(model_file = '/boosters/25M.txt')\n",
    "test = pl.read_parquet(f\"/sleep/test_selected.parquet\")"
   ]
  },
  {
   "cell_type": "code",
   "execution_count": null,
   "id": "7e3b99aa-49bf-4883-ac99-3eda14a898b3",
   "metadata": {},
   "outputs": [],
   "source": [
    "preds_proba = bst.predict(test.drop('state', 'series_id', 'step', 'timestamp'))\n",
    "preds = np.argmax(preds_proba, axis = 1)"
   ]
  },
  {
   "cell_type": "code",
   "execution_count": 4,
   "id": "36a42328-af36-468f-9f55-6083024156ca",
   "metadata": {},
   "outputs": [
    {
     "name": "stdout",
     "output_type": "stream",
     "text": [
      "0.8274695019258088\n"
     ]
    }
   ],
   "source": [
    "from sklearn.metrics import accuracy_score\n",
    "print(accuracy_score(test.select('state'), preds))"
   ]
  },
  {
   "cell_type": "code",
   "execution_count": 142,
   "id": "ddb96ca9-311a-4a81-b25b-0ab23b755b53",
   "metadata": {},
   "outputs": [],
   "source": [
    "# Find indices where the value goes from 0 to 1\n",
    "onset_events = []\n",
    "wake_events = []\n",
    "\n",
    "for event in ['onset','wake']:\n",
    "    \n",
    "    if event == 'onset':\n",
    "        transitions = np.where(np.diff(preds) == 1)[0]\n",
    "        indices = [idx for idx in transitions if np.all(preds[idx+1:idx+10] == 1) and np.all(preds[idx-1:idx-10] == 0)]\n",
    "        #indices = transitions\n",
    "    else:\n",
    "        transitions = np.where(np.diff(preds) == -1)[0]\n",
    "        indices = [idx for idx in transitions if np.all(preds[idx+1:idx+10] == 0) and np.all(preds[idx-1:idx-10] == 1)]\n",
    "        #indices = transitions \n",
    "    \n",
    "    windows = []\n",
    "    frame_start = indices[0]\n",
    "    current_frame = []\n",
    "    \n",
    "    for index in indices:\n",
    "        if index-frame_start > 5760: #6 hours between two sleeping periods\n",
    "            windows.append(current_frame)\n",
    "            current_frame = [index]\n",
    "            frame_start = index\n",
    "        else:\n",
    "            current_frame.append(index) \n",
    "    for frames in windows:\n",
    "        \n",
    "        frame_preds = preds_proba[frames]\n",
    "        column_difference = np.abs(frame_preds[:, 0] - frame_preds[:, 1]) \n",
    "        \"\"\" \n",
    "        column_difference = []\n",
    "        for frame in frames:\n",
    "            column_difference.append(np.abs(np.mean(preds_proba[frame-10:frame, 0]) - np.mean(preds_proba[frame:frame+10, 1])))\n",
    "        \"\"\"\n",
    "        if event == 'onset':\n",
    "            onset_events.append(frames[np.argmax(column_difference)])\n",
    "        else:\n",
    "            wake_events.append(frames[np.argmax(column_difference)])\n",
    "\n",
    " \n",
    "users_id = list(range(265,277))\n",
    "out_dict = {'row_id':[], 'series_id': [], 'step': [], 'event': [], 'score': []}\n",
    "wake_index = 0\n",
    "onset_index = 0\n",
    "row_id = 0\n",
    "for id in users_id:\n",
    "    max_step = test.filter(pl.col('series_id') == id).max().select('step').item() \n",
    "    if max_step is None:\n",
    "        continue\n",
    "    while onset_index < len(onset_events) and wake_index < len(wake_events) and wake_events[wake_index] <= max_step and onset_events[onset_index] <= max_step :       \n",
    "        #Case where we any index is over the threshold\n",
    "        \n",
    "        if wake_events[wake_index] > max_step: \n",
    "            onset_index += 1\n",
    "        elif onset_events[onset_index] > max_step:\n",
    "            wake_index += 1\n",
    "        \n",
    "        #1440-8640 range where accept that person slept\n",
    "        elif wake_events[wake_index]-onset_events[onset_index] in range(720,8641):\n",
    "            out_dict['row_id'].extend([row_id, row_id+1])\n",
    "            row_id += 2\n",
    "            out_dict['series_id'].extend([id, id])\n",
    "            out_dict['step'].extend([onset_events[onset_index],wake_events[wake_index]])\n",
    "            out_dict['event'].extend(['onset', 'wakeup'])\n",
    "            onset_score = min(1,np.abs(preds_proba[onset_events[onset_index],0]-preds_proba[onset_events[onset_index],1]))\n",
    "            wakeup_score = min(1,np.abs(preds_proba[wake_events[wake_index],0]-preds_proba[wake_events[wake_index],1]))\n",
    "            out_dict['score'].extend([onset_score,wakeup_score])\n",
    "            wake_index += 1\n",
    "            onset_index += 1\n",
    "\n",
    "        elif wake_events[wake_index]-onset_events[onset_index] < 720:\n",
    "            wake_index += 1\n",
    "\n",
    "        else:\n",
    "            onset_index += 1\n",
    "            \n",
    "    #Correct the indices\n",
    "    wake_events = [step-max_step for step in wake_events]\n",
    "    onset_events = [step-max_step for step in onset_events]\n",
    "\n",
    "out = pl.from_dict(out_dict)\n",
    "out.write_csv('events_pred.csv')"
   ]
  },
  {
   "cell_type": "code",
   "execution_count": 143,
   "id": "650ac104-f89f-4828-b9fa-3b7e0cef3917",
   "metadata": {},
   "outputs": [
    {
     "name": "stdout",
     "output_type": "stream",
     "text": [
      "342\n",
      "0.22368602606396532\n"
     ]
    }
   ],
   "source": [
    "print(len(out))\n",
    "from apmetric import score\n",
    "column_names = {\n",
    "    'series_id_column_name': 'series_id',\n",
    "    'time_column_name': 'step',\n",
    "    'event_column_name': 'event',\n",
    "    'score_column_name': 'score',\n",
    "}\n",
    "\n",
    "tolerances = {\n",
    "    'onset': [12, 36, 60, 90, 120, 150, 180, 240, 300, 360], \n",
    "    'wakeup': [12, 36, 60, 90, 120, 150, 180, 240, 300, 360]\n",
    "}\n",
    "\n",
    "df_copy = df.clone()\n",
    "df_copy = df_copy.with_columns(pl.col('event').map_dict({1: 'onset', 2: 'wakeup'}))\n",
    "df_copy = df_copy.filter(pl.col('series_id').is_in(users_id)).drop(['night','timestamp'])\n",
    "print(score(df_copy.to_pandas(),out.drop('row_id').to_pandas(),tolerances, **column_names))"
   ]
  },
  {
   "cell_type": "code",
   "execution_count": 101,
   "id": "4d6d1a98-cbaa-4e3c-8d14-2efff4ee0886",
   "metadata": {},
   "outputs": [
    {
     "name": "stdout",
     "output_type": "stream",
     "text": [
      "[  0   1   2   3   4   5   6   7   8   9  10  11  12  13  14  15  16  18\n",
      "  19  20  21  22  23  24  25  26  27  28  29  30  31  32  33  34  35  36\n",
      "  37  38  39  40  41  42  43  44  45  46  47  48  49  50  51  52  53  55\n",
      "  56  57  58  59  60  61  62  63  65  66  67  68  69  70  71  72  73  74\n",
      "  75  76  77  78  79  80  81  82  83  84  85  86  87  88  89  90  91  92\n",
      "  93  94  95  96  97  98  99 100 101 102 103 104 105 106 107 108 109 110\n",
      " 111 112 113 114 115 116 117 118 119 120 121 122 123 124 125 126 127 128\n",
      " 129 130 131 132 133 134 135 136 137 138 139 141 142 143 144 145 146 147\n",
      " 148 149 150 151 152 153 154 155 156 157 158 159 160 161 162 163 164 165\n",
      " 166 167 169 170 171 172 173 174 175 176 177 178 179 180 181 182 183 184\n",
      " 185 186 187 188 189 190 191 192 193 194 195 196 197 198 199 200 202 203\n",
      " 204 206 207 208 209 210 211 212 213 214 215 216 217 218 219 220 221 222\n",
      " 223 224 225 226 227 228 229 230 231 232 233 234 235 236 237 238 239 240\n",
      " 241 243 244 245 246 247 248 249 250 251 252 253 254 255 256 257 258 259\n",
      " 260 261 262 263 264 265 266 267 268 269 270 271 272 273 274 275 276]\n"
     ]
    }
   ],
   "source": [
    "df2 = pl.scan_csv('events_compressed.csv')\n",
    "unique = df2.unique(subset=['series_id'], maintain_order = True).select('series_id').collect().to_numpy().flatten()\n",
    "print(unique.flatten())"
   ]
  },
  {
   "cell_type": "code",
   "execution_count": null,
   "id": "305bfe98-f921-4ab0-8065-0ef0e38f62ef",
   "metadata": {},
   "outputs": [],
   "source": []
  }
 ],
 "metadata": {
  "kernelspec": {
   "display_name": "Python 3 (ipykernel)",
   "language": "python",
   "name": "python3"
  },
  "language_info": {
   "codemirror_mode": {
    "name": "ipython",
    "version": 3
   },
   "file_extension": ".py",
   "mimetype": "text/x-python",
   "name": "python",
   "nbconvert_exporter": "python",
   "pygments_lexer": "ipython3",
   "version": "3.11.2"
  }
 },
 "nbformat": 4,
 "nbformat_minor": 5
}
